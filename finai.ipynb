{
 "cells": [
  {
   "cell_type": "code",
   "execution_count": 1,
   "metadata": {},
   "outputs": [],
   "source": [
    "import pandas as pd\n",
    "import numpy as np\n",
    "data = pd.read_csv(\"data.csv\")"
   ]
  },
  {
   "cell_type": "code",
   "execution_count": 2,
   "metadata": {},
   "outputs": [
    {
     "data": {
      "text/plain": [
       "Index(['label_p0_x', 'label_p0_y', 'label_p1_x', 'label_p1_y', 'label_p2_x',\n",
       "       'label_p2_y', 'label_p3_x', 'label_p3_y', 'prediction_p0_x',\n",
       "       'prediction_p0_y', 'prediction_p1_x', 'prediction_p1_y',\n",
       "       'prediction_p2_x', 'prediction_p2_y', 'prediction_p3_x',\n",
       "       'prediction_p3_y'],\n",
       "      dtype='object')"
      ]
     },
     "execution_count": 2,
     "metadata": {},
     "output_type": "execute_result"
    }
   ],
   "source": [
    "data.columns"
   ]
  },
  {
   "cell_type": "code",
   "execution_count": 3,
   "metadata": {},
   "outputs": [],
   "source": [
    "boxA = data.filter(like = \"label\", axis = 1)\n",
    "boxB = data.filter(like = 'prediction', axis = 1)\n",
    "boxB = boxB.fillna(0)"
   ]
  },
  {
   "cell_type": "code",
   "execution_count": 4,
   "metadata": {},
   "outputs": [],
   "source": [
    "def clip(subject_polygon, clip_polygon):\n",
    "    def inside(point):\n",
    "        cond1 = (clip_vertex_point[0]-clip_polygon_last_point[0])*(point[1]-clip_polygon_last_point[1])\n",
    "        cond2 = (clip_vertex_point[1]-clip_polygon_last_point[1])*(point[0]-clip_polygon_last_point[0])\n",
    "        return cond1 > cond2\n",
    "\n",
    "    def computeIntersection():\n",
    "        dc = [ clip_polygon_last_point[0] - clip_vertex_point[0], clip_polygon_last_point[1] - clip_vertex_point[1] ]\n",
    "        dp = [point_s[0] -point_e[0], point_s[1] -point_e[1] ]\n",
    "        n1 = clip_polygon_last_point[0] * clip_vertex_point[1] - clip_polygon_last_point[1] * clip_vertex_point[0]\n",
    "        n2 = point_s[0] *point_e[1] - point_s[1] *point_e[0] \n",
    "        n3 = 1.0 / (dc[0] * dp[1] - dc[1] * dp[0])\n",
    "        return np.array([(n1*dp[0] - n2*dc[0]) * n3, (n1*dp[1] - n2*dc[1]) * n3])\n",
    "\n",
    "    outputList = subject_polygon\n",
    "    clip_polygon_last_point = clip_polygon[-1]\n",
    "\n",
    "    for clipVertex in clip_polygon:\n",
    "        clip_vertex_point = clipVertex\n",
    "        inputList = outputList\n",
    "        outputList = []\n",
    "        try:\n",
    "            point_s= inputList[-1]\n",
    "        except IndexError:\n",
    "            break\n",
    "\n",
    "        for subjectVertex in inputList:\n",
    "            point_e = subjectVertex\n",
    "            if inside(point_e):\n",
    "                if not inside(point_s):\n",
    "                    outputList.append(computeIntersection())\n",
    "                outputList.append(point_e)\n",
    "            elif inside(point_s):\n",
    "                outputList.append(computeIntersection())\n",
    "            point_s=point_e\n",
    "        clip_polygon_last_point = clip_vertex_point\n",
    "    return(list(map(list, zip(*outputList))))"
   ]
  },
  {
   "cell_type": "code",
   "execution_count": 5,
   "metadata": {},
   "outputs": [],
   "source": [
    "def shoelace_formula_area(x,y):\n",
    "    \"\"\"\n",
    "    x,y - coordinates\n",
    "    \"\"\"\n",
    "    main_area = np.dot(x[:-1],y[1:]) - np.dot(x[1:], y[:-1])\n",
    "    edge_terms = x[-1]*y[0] - y[-1]*x[0]\n",
    "    return 0.5*abs(main_area + edge_terms)"
   ]
  },
  {
   "cell_type": "code",
   "execution_count": 6,
   "metadata": {},
   "outputs": [],
   "source": [
    "results = []\n",
    "for x,y in zip(boxA.values,boxB.values):\n",
    "    points_label = list(zip(x[::2], x[1::2]))\n",
    "    points_prediction = list(zip(y[::2], y[1::2]))\n",
    "    intersection = clip(points_label, points_prediction)\n",
    "    try:\n",
    "        intersection_area = shoelace_formula_area(intersection[0], intersection[1])\n",
    "    except IndexError:\n",
    "        results.append(0)\n",
    "        continue\n",
    "    results.append(intersection_area)"
   ]
  }
 ],
 "metadata": {
  "kernelspec": {
   "display_name": "Python 3",
   "language": "python",
   "name": "python3"
  },
  "language_info": {
   "codemirror_mode": {
    "name": "ipython",
    "version": 3
   },
   "file_extension": ".py",
   "mimetype": "text/x-python",
   "name": "python",
   "nbconvert_exporter": "python",
   "pygments_lexer": "ipython3",
   "version": "3.7.0"
  }
 },
 "nbformat": 4,
 "nbformat_minor": 2
}
